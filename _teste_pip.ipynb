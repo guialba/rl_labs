{
 "cells": [
  {
   "cell_type": "code",
   "execution_count": 1,
   "metadata": {},
   "outputs": [
    {
     "name": "stdout",
     "output_type": "stream",
     "text": [
      "Collecting git+https://github.com/guialba/rlenvs.git\n",
      "  Cloning https://github.com/guialba/rlenvs.git to /tmp/pip-req-build-t33vyn5v\n",
      "  Running command git clone --filter=blob:none --quiet https://github.com/guialba/rlenvs.git /tmp/pip-req-build-t33vyn5v\n",
      "  Resolved https://github.com/guialba/rlenvs.git to commit a79240c6c141457d22a43dc64d56836a269ecbb1\n",
      "  Installing build dependencies ... \u001b[?25ldone\n",
      "\u001b[?25h  Getting requirements to build wheel ... \u001b[?25ldone\n",
      "\u001b[?25h  Preparing metadata (pyproject.toml) ... \u001b[?25ldone\n",
      "\u001b[?25hRequirement already satisfied: numpy in ./.venv/lib/python3.9/site-packages (from rlenvs==0.1) (1.26.4)\n",
      "Building wheels for collected packages: rlenvs\n",
      "  Building wheel for rlenvs (pyproject.toml) ... \u001b[?25ldone\n",
      "\u001b[?25h  Created wheel for rlenvs: filename=rlenvs-0.1-py3-none-any.whl size=5351 sha256=48f2141337c00488f5bd4dc9adb2a8c1fdd25be20ce0d16252586f9a4335b828\n",
      "  Stored in directory: /tmp/pip-ephem-wheel-cache-tv160wck/wheels/83/7b/59/14fdf31fc7f45f5db1270fec412187d7ecb62c424f55b1af02\n",
      "Successfully built rlenvs\n",
      "Installing collected packages: rlenvs\n",
      "Successfully installed rlenvs-0.1\n"
     ]
    }
   ],
   "source": [
    "!pip install git+https://github.com/guialba/rlenvs.git"
   ]
  },
  {
   "cell_type": "code",
   "execution_count": 4,
   "metadata": {},
   "outputs": [],
   "source": [
    "import rlenvs \n",
    "from rlenvs import River "
   ]
  },
  {
   "cell_type": "code",
   "execution_count": 7,
   "metadata": {},
   "outputs": [
    {
     "data": {
      "text/plain": [
       "0.1"
      ]
     },
     "execution_count": 7,
     "metadata": {},
     "output_type": "execute_result"
    }
   ],
   "source": [
    "rlenvs.__version__"
   ]
  },
  {
   "cell_type": "code",
   "execution_count": 5,
   "metadata": {},
   "outputs": [
    {
     "data": {
      "text/plain": [
       "<rlenvs.river.River at 0x7fd228ada9d0>"
      ]
     },
     "execution_count": 5,
     "metadata": {},
     "output_type": "execute_result"
    }
   ],
   "source": [
    "River()"
   ]
  }
 ],
 "metadata": {
  "kernelspec": {
   "display_name": "Python 3",
   "language": "python",
   "name": "python3"
  },
  "language_info": {
   "codemirror_mode": {
    "name": "ipython",
    "version": 3
   },
   "file_extension": ".py",
   "mimetype": "text/x-python",
   "name": "python",
   "nbconvert_exporter": "python",
   "pygments_lexer": "ipython3",
   "version": "3.9.19"
  }
 },
 "nbformat": 4,
 "nbformat_minor": 2
}
