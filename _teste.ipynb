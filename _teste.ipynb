{
 "cells": [
  {
   "cell_type": "code",
   "execution_count": 1,
   "metadata": {},
   "outputs": [],
   "source": [
    "import numpy as np\n",
    "from src.texas_holdem_simp import Texas_Holdem_Simp\n",
    "\n",
    "env = Texas_Holdem_Simp()"
   ]
  },
  {
   "cell_type": "code",
   "execution_count": 2,
   "metadata": {},
   "outputs": [
    {
     "data": {
      "text/plain": [
       "[0, 0, 0, 0, 0, 0, 0, 0]"
      ]
     },
     "execution_count": 2,
     "metadata": {},
     "output_type": "execute_result"
    }
   ],
   "source": [
    "env.to_factor(0)"
   ]
  },
  {
   "cell_type": "code",
   "execution_count": 3,
   "metadata": {},
   "outputs": [
    {
     "data": {
      "text/plain": [
       "66097"
      ]
     },
     "execution_count": 3,
     "metadata": {},
     "output_type": "execute_result"
    }
   ],
   "source": [
    "env.to_tabular([0,1,0,0,2,1,2,0])"
   ]
  },
  {
   "cell_type": "markdown",
   "metadata": {},
   "source": [
    "# Fold"
   ]
  },
  {
   "cell_type": "code",
   "execution_count": 4,
   "metadata": {},
   "outputs": [
    {
     "name": "stdout",
     "output_type": "stream",
     "text": [
      "0.9999999999999999\n"
     ]
    }
   ],
   "source": [
    "s = env.to_tabular([0,1,0,0,2,1,2,0])\n",
    "acum = 0\n",
    "for i in range(6):\n",
    "    for j in range(6):\n",
    "        s_ = env.to_tabular([i,j,0,0,1,1,2,0])\n",
    "        p = env.T(s, 0, s_)\n",
    "        acum += p\n",
    "        # print(i,j, p)\n",
    "print(acum)"
   ]
  },
  {
   "cell_type": "markdown",
   "metadata": {},
   "source": [
    "# Call"
   ]
  },
  {
   "cell_type": "code",
   "execution_count": 5,
   "metadata": {},
   "outputs": [
    {
     "name": "stdout",
     "output_type": "stream",
     "text": [
      "0 5 0\n",
      "1 5 0\n",
      "2 5 0.25\n",
      "3 5 0.25\n",
      "4 5 0.25\n",
      "5 5 0.25\n",
      "1.0\n"
     ]
    }
   ],
   "source": [
    "s = env.to_tabular([0,1,0,0,2,1,2,0])\n",
    "acum = 0\n",
    "for i in range(6):\n",
    "    s_ = env.to_tabular([0,1,i,0,1,1,4,1])\n",
    "    p = env.T(s, 1, s_)\n",
    "    acum += p\n",
    "    print(i,p)\n",
    "print(acum)"
   ]
  },
  {
   "cell_type": "markdown",
   "metadata": {},
   "source": [
    "# Raise"
   ]
  },
  {
   "cell_type": "code",
   "execution_count": 10,
   "metadata": {},
   "outputs": [
    {
     "name": "stdout",
     "output_type": "stream",
     "text": [
      "0 5 0\n",
      "1 5 0\n",
      "2 5 0.25\n",
      "3 5 0.25\n",
      "4 5 0.25\n",
      "5 5 0.25\n",
      "1.0\n"
     ]
    }
   ],
   "source": [
    "s = env.to_tabular([0,1,0,0,2,1,2,0])\n",
    "acum = 0\n",
    "for i in range(6):\n",
    "    s_ = env.to_tabular([0,1,i,0,0,2,6,1])\n",
    "    p = env.T(s, 2, s_)\n",
    "    acum += p\n",
    "    print(i,p)\n",
    "print(acum)"
   ]
  },
  {
   "cell_type": "markdown",
   "metadata": {},
   "source": [
    "# Allin"
   ]
  },
  {
   "cell_type": "code",
   "execution_count": 12,
   "metadata": {},
   "outputs": [
    {
     "name": "stdout",
     "output_type": "stream",
     "text": [
      "0 5 1\n",
      "1 5 0\n",
      "2 5 0\n",
      "3 5 0\n",
      "4 5 0\n",
      "5 5 0\n",
      "6 5 0\n",
      "1\n"
     ]
    }
   ],
   "source": [
    "s = env.to_tabular([0,1,0,0,2,1,2,0])\n",
    "acum = 0\n",
    "for i in range(7):\n",
    "    s_ = env.to_tabular([0,0,0,0,i,0,0,0])\n",
    "    p = env.T(s, 3, s_)\n",
    "    acum += p\n",
    "    print(i,p)\n",
    "print(acum)"
   ]
  },
  {
   "cell_type": "code",
   "execution_count": 9,
   "metadata": {},
   "outputs": [
    {
     "name": "stdout",
     "output_type": "stream",
     "text": [
      "66097\n",
      "372025\n"
     ]
    },
    {
     "data": {
      "text/plain": [
       "0.25"
      ]
     },
     "execution_count": 9,
     "metadata": {},
     "output_type": "execute_result"
    }
   ],
   "source": [
    "s = env.to_tabular([0,1,0,0,2,1,2,0])\n",
    "s_ = env.to_tabular([0,1,2,0,0,2,6,1])\n",
    "print(s)\n",
    "print(s_)\n",
    "env.T(s, 2, s_)"
   ]
  },
  {
   "cell_type": "code",
   "execution_count": 3,
   "metadata": {},
   "outputs": [
    {
     "data": {
      "text/plain": [
       "-1"
      ]
     },
     "execution_count": 3,
     "metadata": {},
     "output_type": "execute_result"
    }
   ],
   "source": [
    "env.R(None, None, 3)"
   ]
  }
 ],
 "metadata": {
  "kernelspec": {
   "display_name": "Python 3",
   "language": "python",
   "name": "python3"
  },
  "language_info": {
   "codemirror_mode": {
    "name": "ipython",
    "version": 3
   },
   "file_extension": ".py",
   "mimetype": "text/x-python",
   "name": "python",
   "nbconvert_exporter": "python",
   "pygments_lexer": "ipython3",
   "version": "3.9.19"
  }
 },
 "nbformat": 4,
 "nbformat_minor": 2
}
