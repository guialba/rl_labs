{
 "cells": [
  {
   "cell_type": "code",
   "execution_count": 1,
   "metadata": {},
   "outputs": [
    {
     "name": "stdout",
     "output_type": "stream",
     "text": [
      "----(1)-----\n",
      "|P2(5): J♠ |\n",
      "|(2): Q♥-**|\n",
      "|P1(3): J♥ |\n",
      "------------\n"
     ]
    }
   ],
   "source": [
    "import numpy as np\n",
    "import math\n",
    "from src.texas_holdem_simp import Texas_Holdem_Simp\n",
    "\n",
    "env = Texas_Holdem_Simp()\n",
    "env.plot(env.enum(('J♥', 'J♠', 'Q♥', 'Q♠', 3,0,0)))"
   ]
  },
  {
   "cell_type": "code",
   "execution_count": 2,
   "metadata": {},
   "outputs": [],
   "source": [
    "\n",
    "def lrtdp(max_iter=1000, epsilon=.1, gamma=.9):\n",
    "    v = np.zeros(env.S.size)\n",
    "    H = np.zeros(env.S.size)\n",
    "    solved = [False for _ in env.S]\n",
    "\n",
    "    curr_iter = 0\n",
    "\n",
    "    bell = lambda s:  max([sum([env.T(s,a,s_)*(env.R(s,a,s_) + gamma*v[s_]) for s_ in env.S]) for a in env.A])\n",
    "    greedy = lambda s: np.argmax([sum([env.T(s,a,s_)*(env.R(s,a,s_) + gamma*v[s_]) for s_ in env.S]) for a in env.A])\n",
    "\n",
    "    def check_solved(s):\n",
    "        rv = True\n",
    "        opened, closed = [], []\n",
    "        if not solved[s]:\n",
    "            opened.append(s)\n",
    "        while len(opened)>0:\n",
    "            s = opened.pop()\n",
    "            closed.append(s)\n",
    "            if abs(bell(s)-v[s]) > epsilon:\n",
    "                rv = False\n",
    "                continue\n",
    "            a = greedy(s)\n",
    "            for s_ in env.S:\n",
    "                if env.T(s,a,s_)>0:\n",
    "                    if not solved[s_] and not(s_ in opened+closed):\n",
    "                        opened.append(s_)\n",
    "        if rv:\n",
    "            for s_ in closed:\n",
    "                if not solved[s_]:\n",
    "                    solved[s_] = True\n",
    "        else:\n",
    "            for s_ in closed:\n",
    "                v[s_] = bell(s_)\n",
    "        return rv\n",
    "\n",
    "    while not(all([solved[s0] for s0 in env.S0])) and curr_iter<max_iter:\n",
    "        curr_iter += 1\n",
    "        visited = []\n",
    "        s = np.random.choice(env.S0)\n",
    "        while not solved[s]:\n",
    "            visited.append(s)\n",
    "            if s in env.G: break\n",
    "            a = greedy(s)\n",
    "            v[s] = bell(s)\n",
    "            s = np.random.choice(env.S, p=[env.T(s,a,s_) for s_ in env.S])\n",
    "        while len(visited) > 0:\n",
    "            s = visited.pop()\n",
    "            if not check_solved(s): break\n",
    "\n",
    "    # env.plot(list(np.round(v, 2)))\n",
    "    # return [greedy(s) for s in env.S]\n",
    "    return v\n",
    "        \n",
    "\n",
    "v = lrtdp(epsilon=.001, gamma=.99999)\n",
    "# pi = lrtdp(epsilon=.001, gamma=.99999)\n",
    "# sum(pi)"
   ]
  },
  {
   "cell_type": "code",
   "execution_count": 16,
   "metadata": {},
   "outputs": [
    {
     "data": {
      "text/plain": [
       "3.759646614599145"
      ]
     },
     "execution_count": 16,
     "metadata": {},
     "output_type": "execute_result"
    }
   ],
   "source": [
    "v0 = v[env.S0]\n",
    "np.sum(v0)\n",
    "# pi = np.argmax(q, axis=1)\n",
    "len(v0[(v0>0)])/len(v0)\n",
    "max(v0)\n",
    "# np.prod(v0)"
   ]
  },
  {
   "cell_type": "code",
   "execution_count": 3,
   "metadata": {},
   "outputs": [],
   "source": [
    "## 698m 43.3s\n",
    "# with open(\"lrtdp.txt\", \"a\") as f:\n",
    "#     for item in pi:\n",
    "#         f.write(f'{item}\\n')"
   ]
  },
  {
   "cell_type": "code",
   "execution_count": 4,
   "metadata": {},
   "outputs": [
    {
     "name": "stdout",
     "output_type": "stream",
     "text": [
      "----(1)-----\n",
      "|P2(3): Q♠ |\n",
      "|(2): K♥-**|\n",
      "|P1(5): K♠ |\n",
      "------------\n"
     ]
    }
   ],
   "source": [
    "env = Texas_Holdem_Simp()\n",
    "s =  np.random.choice(env.S0)\n",
    "env.plot(s)"
   ]
  },
  {
   "cell_type": "code",
   "execution_count": 5,
   "metadata": {},
   "outputs": [],
   "source": [
    "# a = pi[s]\n",
    "# print(a)\n",
    "# env.plot(np.random.choice([s_ for s_ in env.S if env.T(s,a,s_)>0]))"
   ]
  },
  {
   "cell_type": "code",
   "execution_count": 6,
   "metadata": {},
   "outputs": [],
   "source": [
    "# print(len(env.S0))\n",
    "# s1 = [s_ for s in env.S0 for s_ in env.S if env.T(s,pi[s],s_)>0]\n",
    "# print(len(s1))"
   ]
  }
 ],
 "metadata": {
  "kernelspec": {
   "display_name": "Python 3",
   "language": "python",
   "name": "python3"
  },
  "language_info": {
   "codemirror_mode": {
    "name": "ipython",
    "version": 3
   },
   "file_extension": ".py",
   "mimetype": "text/x-python",
   "name": "python",
   "nbconvert_exporter": "python",
   "pygments_lexer": "ipython3",
   "version": "3.9.19"
  }
 },
 "nbformat": 4,
 "nbformat_minor": 2
}
