{
 "cells": [
  {
   "cell_type": "code",
   "execution_count": 1,
   "metadata": {},
   "outputs": [],
   "source": [
    "import numpy as np\n",
    "import math\n",
    "from src.texas_holdem_simp import Texas_Holdem_Simp\n",
    "\n",
    "env = Texas_Holdem_Simp()"
   ]
  },
  {
   "cell_type": "code",
   "execution_count": 2,
   "metadata": {},
   "outputs": [
    {
     "name": "stdout",
     "output_type": "stream",
     "text": [
      "('J♥', 'J♠', 'Q♥', 'Q♠', 1, 0, 0)\n"
     ]
    }
   ],
   "source": [
    "env.plot(5)"
   ]
  },
  {
   "cell_type": "code",
   "execution_count": 3,
   "metadata": {},
   "outputs": [
    {
     "name": "stdout",
     "output_type": "stream",
     "text": [
      "('J♥', 'J♠', 'Q♥', 'Q♠', 3, 0, 0)\n",
      "('J♥', 'J♠', 'Q♥', 'Q♠', 2, 0, 0)\n",
      "0.008333333333333333\n",
      "0\n"
     ]
    }
   ],
   "source": [
    "s = ('J♥', 'J♠', 'Q♥', 'Q♠', 3,0,0)\n",
    "s_ = ('J♥', 'J♠', 'Q♥', 'Q♠', 2,0,0)\n",
    "\n",
    "si = env.enum(s)\n",
    "si_ = env.enum(s_)\n",
    "\n",
    "env.plot(env.enum(s))\n",
    "env.plot(env.enum(s_))\n",
    "\n",
    "print(env.T(si, 0, si_))\n",
    "print(env.R(si))"
   ]
  }
 ],
 "metadata": {
  "kernelspec": {
   "display_name": "Python 3",
   "language": "python",
   "name": "python3"
  },
  "language_info": {
   "codemirror_mode": {
    "name": "ipython",
    "version": 3
   },
   "file_extension": ".py",
   "mimetype": "text/x-python",
   "name": "python",
   "nbconvert_exporter": "python",
   "pygments_lexer": "ipython3",
   "version": "3.9.19"
  }
 },
 "nbformat": 4,
 "nbformat_minor": 2
}
