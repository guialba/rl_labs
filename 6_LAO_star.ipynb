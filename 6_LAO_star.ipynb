{
 "cells": [
  {
   "cell_type": "code",
   "execution_count": 1,
   "metadata": {},
   "outputs": [],
   "source": [
    "import numpy as np\n",
    "from src.river import River\n",
    "\n",
    "env = River()"
   ]
  },
  {
   "cell_type": "code",
   "execution_count": 2,
   "metadata": {},
   "outputs": [
    {
     "name": "stdout",
     "output_type": "stream",
     "text": [
      "[-1.0, 0.0, -1.0, -0.5, 0.0, 0.0, 0.0, 0.0, 0.0, 0.0]\n",
      "[-1.0, 0.0, -1.45, -0.95, 0.0, -1.0, 0.0, 0.0, 0.0, 0.0]\n"
     ]
    }
   ],
   "source": [
    "def policy_iteration(gamma=.9):\n",
    "    v = np.zeros(env.S.size)\n",
    "    H = np.zeros(env.S.size)\n",
    "\n",
    "    F = [env.S0]\n",
    "    I = []\n",
    "    G = [env.S0]\n",
    "    GV = [env.S0]\n",
    "\n",
    "    end = False\n",
    "\n",
    "    bell = lambda s:  max([sum([env.T(s,a,s_)*(env.R(s,a,s_) + gamma*v[s_]) for s_ in env.S]) for a in env.A])\n",
    "      \n",
    "    greedy = lambda s: np.argmax([sum([env.T(s,a,s_)*(env.R(s,a,s_) + .9*v[s_]) for s_ in env.S]) for a in env.A])\n",
    "    transit = lambda s, s_: (env.T(s,greedy(s),s_)>0 and s!=s_)\n",
    "    is_reachable = lambda s_: [s for s in env.S if transit(s,s_ )]\n",
    "    reachables = lambda s_: {n for s in is_reachable(s_) for n in [s]+list(reachables(s))}\n",
    "\n",
    "    while not end:\n",
    "        s = (F+G).pop()\n",
    "        F.remove(s)\n",
    "        I += [s]\n",
    "        F += [x for x in env.S if x not in I and any([env.T(s,a,x)>0 for a in env.A])]\n",
    "        G = I + F\n",
    "        Z = [s] + list(reachables(s))\n",
    "        v = [(bell(s_), H[s_])[s_ in F] if s_ in Z else v[s_] for s_ in env.S]\n",
    "        GV = [s_ for s_ in G]\n",
    "\n",
    "        print(v)\n",
    "        end = len([s for s in env.S if s in list(F+GV) and s not in env.G]) <= 0\n",
    "    return np.argmax([sum([env.T(s,a,s_)*(env.R(s,a,s_) + .9*v[s_]) for s_ in env.S]) for a in env.A])\n",
    "\n",
    "        \n",
    "\n",
    "pi = policy_iteration(gamma=.9)"
   ]
  },
  {
   "cell_type": "code",
   "execution_count": 34,
   "metadata": {},
   "outputs": [
    {
     "name": "stdout",
     "output_type": "stream",
     "text": [
      " _____________________________ \n",
      "|  →  |  →  |  →  |  →  |  ↓  |\n",
      "|_____|_____|_____|_____|_____|\n",
      "|  ↑  |  ↑  |  ↑  |  →  |  ↑  |\n",
      "|_____|_____|_____|_____|_____|\n",
      "\n"
     ]
    }
   ],
   "source": [
    "env.plot(pi, True)"
   ]
  },
  {
   "cell_type": "code",
   "execution_count": null,
   "metadata": {},
   "outputs": [],
   "source": []
  }
 ],
 "metadata": {
  "kernelspec": {
   "display_name": "Python 3",
   "language": "python",
   "name": "python3"
  },
  "language_info": {
   "codemirror_mode": {
    "name": "ipython",
    "version": 3
   },
   "file_extension": ".py",
   "mimetype": "text/x-python",
   "name": "python",
   "nbconvert_exporter": "python",
   "pygments_lexer": "ipython3",
   "version": "3.9.13"
  }
 },
 "nbformat": 4,
 "nbformat_minor": 2
}
