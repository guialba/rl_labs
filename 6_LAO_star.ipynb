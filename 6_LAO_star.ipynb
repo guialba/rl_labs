{
 "cells": [
  {
   "cell_type": "code",
   "execution_count": 1,
   "metadata": {},
   "outputs": [],
   "source": [
    "import numpy as np\n",
    "from src.river import River\n",
    "\n",
    "env = River()"
   ]
  },
  {
   "cell_type": "code",
   "execution_count": 2,
   "metadata": {},
   "outputs": [
    {
     "name": "stdout",
     "output_type": "stream",
     "text": [
      " _____________________________ \n",
      "|  →  |  →  |  →  |  →  |  ↓  |\n",
      "|_____|_____|_____|_____|_____|\n",
      "|  ↑  |  ↑  |  ↑  |  →  |  ↑  |\n",
      "|_____|_____|_____|_____|_____|\n",
      "\n"
     ]
    }
   ],
   "source": [
    "def value_iter(v=None, mask=None, epsilon=.1, gamma=.9):\n",
    "    v__ = v if v is not None else np.zeros(env.S.size)\n",
    "    bell = lambda s,a: sum([env.T(s,a,s_)*(env.R(s,a,s_)+v__[s_]) for s_ in env.S])\n",
    "    end = False\n",
    "    while not end:\n",
    "        v_ = v__.copy()\n",
    "        for s in env.S:\n",
    "            if mask is not None and s in mask:\n",
    "                v__[s] = mask[s] if mask[s] is not None else np.max([bell(s,a) for a in env.A])\n",
    "\n",
    "        end = np.linalg.norm(v_-v__, ord=np.inf) < (epsilon*(1-gamma))/(2*gamma)\n",
    "    return v__\n",
    "\n",
    "     \n",
    "\n",
    "def lao(gamma=.9):\n",
    "    v = np.zeros(env.S.size)\n",
    "    H = np.zeros(env.S.size)\n",
    "\n",
    "    F = set(env.S0)\n",
    "    I = set()\n",
    "    G = set(env.S0)\n",
    "    GV = set(env.S0)\n",
    "\n",
    "    end = False\n",
    "\n",
    "    greedy = lambda s: np.argmax([sum([env.T(s,a,s_)*(env.R(s,a,s_) + gamma*v[s_]) for s_ in env.S]) for a in env.A])\n",
    "    transit = lambda s, s_: (env.T(s,greedy(s),s_)>0 and s!=s_)\n",
    "\n",
    "    def reachable(sG, s=None, S=None, mem=[]):\n",
    "        # s, S = s or env.S0, S or env.S\n",
    "        S = S or env.S\n",
    "        if s is None:\n",
    "            return any([reachable(sG=sG, s=s_, S=S, mem=mem) for s_ in env.S0])\n",
    "        if s == sG: return True\n",
    "        else:\n",
    "            if s in mem: return False\n",
    "            else: return any([reachable(sG=sG, s=s_, S=S, mem=mem+[s]) for s_ in S if transit(s,s_)])\n",
    "    \n",
    "    getPi = lambda: [greedy(s) for s in env.S]\n",
    "    while not end:\n",
    "        s = list( (F&GV)-set(env.G) ).pop()\n",
    "        F = F-{s}\n",
    "        I |= {s}\n",
    "        F |= {x for x in env.S if x not in I and any([env.T(s,a,x)>0 for a in env.A])}\n",
    "        G = I|F\n",
    "        Z = {s} | {s_ for s_ in G if reachable(s, s_, G)}\n",
    "        v = value_iter(v=v, mask={s_:H[s_] if s_ in F else None for s_ in env.S if s_ in Z})\n",
    "        GV = set([s_ for s_ in G if reachable(s_, S=G)])\n",
    "        # env.plot(list(v))\n",
    "        end = len([s for s in env.S if s in list( F&GV ) and s not in env.G]) == 0\n",
    "    return getPi()\n",
    "        \n",
    "\n",
    "pi = lao(gamma=.9)\n",
    "env.plot(pi, True)"
   ]
  },
  {
   "cell_type": "code",
   "execution_count": 3,
   "metadata": {},
   "outputs": [
    {
     "data": {
      "text/plain": [
       "[0, 0, 0, 2, 0, 2, 2, 2, 2, 1]"
      ]
     },
     "execution_count": 3,
     "metadata": {},
     "output_type": "execute_result"
    }
   ],
   "source": [
    "pi"
   ]
  }
 ],
 "metadata": {
  "kernelspec": {
   "display_name": "Python 3",
   "language": "python",
   "name": "python3"
  },
  "language_info": {
   "codemirror_mode": {
    "name": "ipython",
    "version": 3
   },
   "file_extension": ".py",
   "mimetype": "text/x-python",
   "name": "python",
   "nbconvert_exporter": "python",
   "pygments_lexer": "ipython3",
   "version": "3.9.19"
  }
 },
 "nbformat": 4,
 "nbformat_minor": 2
}
