{
 "cells": [
  {
   "cell_type": "code",
   "execution_count": 1,
   "metadata": {},
   "outputs": [],
   "source": [
    "import numpy as np\n",
    "from src.river import River\n",
    "\n",
    "env = River()\n",
    "\n",
    "N = 7"
   ]
  },
  {
   "cell_type": "code",
   "execution_count": 2,
   "metadata": {},
   "outputs": [],
   "source": [
    "def V():\n",
    "    pi = np.zeros((N, env.S.size))\n",
    "    v = np.zeros((N, env.S.size))\n",
    "    eq = lambda s,a,n: sum([env.T(s,a,s_)*(env.R(s,a,s_)+v[n, s_]) for s_ in env.S])\n",
    "\n",
    "    for n in range(1, N):\n",
    "        for s in env.S:\n",
    "            v[n,s] = np.max([eq(s,a,n-1) for a in env.A])\n",
    "            pi[n,s] = np.argmax([eq(s,a,n-1) for a in env.A])\n",
    "\n",
    "    return v, pi\n",
    "        "
   ]
  },
  {
   "cell_type": "code",
   "execution_count": 3,
   "metadata": {},
   "outputs": [
    {
     "data": {
      "text/plain": [
       "array([[ 0.    ,  0.    ,  0.    ,  0.    ,  0.    ,  0.    ,  0.    ,\n",
       "         0.    ,  0.    ,  0.    ],\n",
       "       [-1.    , -1.    , -1.    , -1.    ,  0.    , -1.    , -1.    ,\n",
       "        -1.    , -1.    , -1.    ],\n",
       "       [-2.    , -2.    , -2.    , -1.5   ,  0.    , -2.    , -2.    ,\n",
       "        -2.    , -2.    , -1.    ],\n",
       "       [-3.    , -3.    , -2.75  , -2.    ,  0.    , -3.    , -3.    ,\n",
       "        -3.    , -2.    , -1.    ],\n",
       "       [-4.    , -3.875 , -3.5   , -2.5   ,  0.    , -4.    , -4.    ,\n",
       "        -3.    , -2.    , -1.    ],\n",
       "       [-4.875 , -4.75  , -4.25  , -3.    ,  0.    , -5.    , -4.    ,\n",
       "        -3.    , -2.    , -1.    ],\n",
       "       [-5.75  , -5.4375, -4.9375, -3.4375,  0.    , -5.    , -4.    ,\n",
       "        -3.    , -2.    , -1.    ]])"
      ]
     },
     "execution_count": 3,
     "metadata": {},
     "output_type": "execute_result"
    }
   ],
   "source": [
    "v, pi = V()\n",
    "v"
   ]
  },
  {
   "cell_type": "code",
   "execution_count": 4,
   "metadata": {},
   "outputs": [
    {
     "data": {
      "text/plain": [
       "array([[0., 0., 0., 0., 0., 0., 0., 0., 0., 0.],\n",
       "       [0., 0., 0., 0., 0., 0., 0., 0., 0., 0.],\n",
       "       [0., 0., 0., 2., 0., 0., 0., 0., 0., 1.],\n",
       "       [0., 0., 2., 2., 0., 0., 0., 0., 2., 1.],\n",
       "       [0., 2., 2., 2., 0., 0., 0., 2., 2., 1.],\n",
       "       [2., 2., 2., 2., 0., 0., 2., 2., 2., 1.],\n",
       "       [2., 0., 0., 2., 0., 2., 2., 2., 2., 1.]])"
      ]
     },
     "execution_count": 4,
     "metadata": {},
     "output_type": "execute_result"
    }
   ],
   "source": [
    "pi"
   ]
  }
 ],
 "metadata": {
  "kernelspec": {
   "display_name": "Python 3",
   "language": "python",
   "name": "python3"
  },
  "language_info": {
   "codemirror_mode": {
    "name": "ipython",
    "version": 3
   },
   "file_extension": ".py",
   "mimetype": "text/x-python",
   "name": "python",
   "nbconvert_exporter": "python",
   "pygments_lexer": "ipython3",
   "version": "3.9.19"
  }
 },
 "nbformat": 4,
 "nbformat_minor": 2
}
