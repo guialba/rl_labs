{
 "cells": [
  {
   "cell_type": "code",
   "execution_count": 1,
   "metadata": {},
   "outputs": [
    {
     "name": "stdout",
     "output_type": "stream",
     "text": [
      "----(1)-----\n",
      "|P2(5): J♠ |\n",
      "|(2): Q♥-**|\n",
      "|P1(3): J♥ |\n",
      "------------\n"
     ]
    }
   ],
   "source": [
    "import numpy as np\n",
    "import math\n",
    "from src.texas_holdem_simp import Texas_Holdem_Simp\n",
    "\n",
    "env = Texas_Holdem_Simp()\n",
    "env.plot(env.enum(('J♥', 'J♠', 'Q♥', 'Q♠', 3,0,0)))"
   ]
  },
  {
   "cell_type": "code",
   "execution_count": 2,
   "metadata": {},
   "outputs": [],
   "source": [
    "def uct(max_iter=1000, max_d=10, gamma=.9, beta=1):\n",
    "    Q = np.zeros((env.S.size, env.A.size))\n",
    "    n = np.zeros((env.S.size, env.A.size))\n",
    "\n",
    "    def search(s, d):\n",
    "        if s in env.G:\n",
    "            return 0\n",
    "        if d == max_d:\n",
    "            return np.max([env.R(s,a,s_) for s_ in env.S for a in env.A if env.T(s,a,s_)>0])\n",
    "        \n",
    "        expl = lambda a: ((np.log(np.sum(n[s]))/n[s,a])**.5) if n[s,a]>0 else 0\n",
    "        # a = np.argmax([Q[s,a] + beta*expl(a) for a in env.A])\n",
    "        v = np.array([Q[s,a] + beta*expl(a) for a in env.A])\n",
    "        a = np.random.choice(np.flatnonzero(v == v.max()))\n",
    "        if abs(np.sum([env.T(s,a,s_) for s_ in env.S]) - 1)>0.01:\n",
    "            print(s, a)\n",
    "        s_ = np.random.choice(env.S, p=[env.T(s,a,s_) for s_ in env.S])\n",
    "        r = env.R(s,a,s_)\n",
    "        q = r + gamma*search(s_, d+1)\n",
    "        Q[s,a] = (n[s,a]*Q[s,a]+q) / (n[s,a]+1)\n",
    "        n[s,a] += 1\n",
    "        return q\n",
    "\n",
    "    for i in range(max_iter):\n",
    "        for s0 in env.S0:\n",
    "            search(s0,0)\n",
    "    return [np.argmax(Q[s]) for s in env.S]\n",
    "\n",
    "    \n",
    "pi = uct(max_iter=100, max_d=100, beta=.9)\n"
   ]
  },
  {
   "cell_type": "code",
   "execution_count": 3,
   "metadata": {},
   "outputs": [],
   "source": [
    "# with open(\"mcts.txt\", \"a\") as f:\n",
    "#     for item in pi:\n",
    "#         f.write(f'{item}\\n')\n"
   ]
  },
  {
   "cell_type": "code",
   "execution_count": 6,
   "metadata": {},
   "outputs": [
    {
     "name": "stdout",
     "output_type": "stream",
     "text": [
      "----(1)-----\n",
      "|P2(3): K♥ |\n",
      "|(2): K♠-**|\n",
      "|P1(5): Q♥ |\n",
      "------------\n"
     ]
    }
   ],
   "source": [
    "env = Texas_Holdem_Simp()\n",
    "s =  np.random.choice(env.S0)\n",
    "env.plot(s)"
   ]
  },
  {
   "cell_type": "code",
   "execution_count": 9,
   "metadata": {},
   "outputs": [
    {
     "name": "stdout",
     "output_type": "stream",
     "text": [
      "1\n",
      "----(2)-----\n",
      "|P2(2): K♥ |\n",
      "|(4): K♠-J♠|\n",
      "|P1(4): Q♥ |\n",
      "------------\n"
     ]
    }
   ],
   "source": [
    "a = pi[s]\n",
    "print(a)\n",
    "env.plot(np.random.choice([s_ for s_ in env.S if env.T(s,a,s_)>0]))"
   ]
  }
 ],
 "metadata": {
  "kernelspec": {
   "display_name": "Python 3",
   "language": "python",
   "name": "python3"
  },
  "language_info": {
   "codemirror_mode": {
    "name": "ipython",
    "version": 3
   },
   "file_extension": ".py",
   "mimetype": "text/x-python",
   "name": "python",
   "nbconvert_exporter": "python",
   "pygments_lexer": "ipython3",
   "version": "3.9.19"
  }
 },
 "nbformat": 4,
 "nbformat_minor": 2
}
