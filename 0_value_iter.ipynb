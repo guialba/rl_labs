{
 "cells": [
  {
   "cell_type": "code",
   "execution_count": 1,
   "metadata": {},
   "outputs": [],
   "source": [
    "import numpy as np\n",
    "from src.river import River\n",
    "\n",
    "env = River()"
   ]
  },
  {
   "cell_type": "code",
   "execution_count": 2,
   "metadata": {},
   "outputs": [],
   "source": [
    "\n",
    "def V(epsilon=.1, gamma=.9):\n",
    "    v = np.zeros(env.S.size)\n",
    "    end = False\n",
    "    bell = lambda s,a: gamma*sum([env.T(s,a,s_)*(env.R(s,a,s_)+v[s_]) for s_ in env.S])\n",
    "    while not end:\n",
    "        v_ = v.copy()\n",
    "        for s in env.S:\n",
    "            v[s] = np.max([bell(s,a) for a in env.A])\n",
    "\n",
    "        end = np.linalg.norm(v_-v, ord=np.inf) < (epsilon*(1-gamma))/(2*gamma)\n",
    "    return v, [np.argmax([bell(s,a) for a in env.A]) for s in env.S]"
   ]
  },
  {
   "cell_type": "code",
   "execution_count": 3,
   "metadata": {},
   "outputs": [
    {
     "name": "stdout",
     "output_type": "stream",
     "text": [
      " _____________________________ \n",
      "|-3.69| -3.1|-2.44|-1.71| -0.9|\n",
      "|_____|_____|_____|_____|_____|\n",
      "|-4.22|-4.19| -3.9| -2.8| 0.0 |\n",
      "|_____|_____|_____|_____|_____|\n",
      "\n"
     ]
    }
   ],
   "source": [
    "v, pi = V()\n",
    "\n",
    "env.plot(list(np.round(v,2)))"
   ]
  },
  {
   "cell_type": "code",
   "execution_count": 4,
   "metadata": {},
   "outputs": [
    {
     "name": "stdout",
     "output_type": "stream",
     "text": [
      " _____________________________ \n",
      "|  →  |  →  |  →  |  →  |  ↓  |\n",
      "|_____|_____|_____|_____|_____|\n",
      "|  ↑  |  ↑  |  ↑  |  →  |  ↑  |\n",
      "|_____|_____|_____|_____|_____|\n",
      "\n"
     ]
    }
   ],
   "source": [
    "env.plot(pi, True)"
   ]
  }
 ],
 "metadata": {
  "kernelspec": {
   "display_name": "Python 3",
   "language": "python",
   "name": "python3"
  },
  "language_info": {
   "codemirror_mode": {
    "name": "ipython",
    "version": 3
   },
   "file_extension": ".py",
   "mimetype": "text/x-python",
   "name": "python",
   "nbconvert_exporter": "python",
   "pygments_lexer": "ipython3",
   "version": "3.9.19"
  }
 },
 "nbformat": 4,
 "nbformat_minor": 2
}
