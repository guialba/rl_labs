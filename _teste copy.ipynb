{
 "cells": [
  {
   "cell_type": "code",
   "execution_count": 1,
   "metadata": {},
   "outputs": [],
   "source": [
    "import numpy as np\n",
    "import itertools\n",
    "import math\n",
    "\n",
    "actions = ['fold', 'call']\n",
    "deck = ['J♥', 'J♠', 'Q♥', 'Q♠', 'K♥', 'K♠']\n",
    "# deck = ['J♥', 'J♠', 'Q♥', 'Q♠', 'K♥', 'K♠', 'A♥', 'A♠']\n",
    "\n",
    "cards = 4\n",
    "chips_per_player = 5\n",
    "rounds = 2"
   ]
  },
  {
   "cell_type": "code",
   "execution_count": 21,
   "metadata": {},
   "outputs": [
    {
     "name": "stdout",
     "output_type": "stream",
     "text": [
      "36000\n",
      "('J♥', 'J♠', 'Q♥', 'Q♠', 0, 3, 0)\n",
      "5\n"
     ]
    }
   ],
   "source": [
    "games = list(itertools.permutations(deck, cards))\n",
    "info = [tuple(i) for i in np.array(np.meshgrid( range(chips_per_player*2), range(chips_per_player), range(rounds) )).T.reshape(-1,3)]\n",
    "S = [(*g, *i) for g,i in list(itertools.product(games, info))]\n",
    "\n",
    "def enum(s):\n",
    "    return S.index(s)\n",
    "\n",
    "def factor(i):\n",
    "    return S[i]\n",
    "\n",
    "print(len(S))\n",
    "    \n",
    "print(factor(3))\n",
    "print(enum(('J♥', 'J♠', 'Q♥', 'Q♠', 1, 0, 0)))"
   ]
  },
  {
   "cell_type": "code",
   "execution_count": 58,
   "metadata": {},
   "outputs": [
    {
     "data": {
      "text/plain": [
       "3"
      ]
     },
     "execution_count": 58,
     "metadata": {},
     "output_type": "execute_result"
    }
   ],
   "source": [
    "def points(game):\n",
    "    flush = {'J♥', 'K♥', 'Q♥'}\n",
    "    seq = 'JKQ'\n",
    "    pairs = ('KKQ', 'JKK', 'KQQ', 'JQQ', 'JJK', 'JJQ')\n",
    "    # Flush\n",
    "    if set(game) == flush:\n",
    "        return 1\n",
    "    \n",
    "    cards = ''.join(sorted([card[0] for card in game]))\n",
    "    # sequence\n",
    "    if cards == seq:\n",
    "        return 2\n",
    "    \n",
    "    return (3 + pairs.index(cards))\n",
    "\n",
    "\n",
    "possible_games = {g:points(g) for g in list(itertools.permutations(deck, 3))}\n",
    "\n",
    "my_game = ('Q♥', 'K♥', 'K♠')\n",
    "possible_games[my_game]"
   ]
  },
  {
   "cell_type": "code",
   "execution_count": 61,
   "metadata": {},
   "outputs": [],
   "source": [
    "def evaluate_game(s):\n",
    "    p1,p2,t1,t2 = factor(s)[:4]\n",
    "    p1_game = (p1,t1,t2)\n",
    "    p2_game = (p2,t1,t2)\n",
    "\n",
    "    points_p1 = possible_games[p1_game]\n",
    "    points_p2 = possible_games[p2_game]\n",
    "\n",
    "    return None if points_p1 == points_p2 else (points_p1 < points_p2)"
   ]
  },
  {
   "cell_type": "code",
   "execution_count": 68,
   "metadata": {},
   "outputs": [
    {
     "data": {
      "text/plain": [
       "False"
      ]
     },
     "execution_count": 68,
     "metadata": {},
     "output_type": "execute_result"
    }
   ],
   "source": [
    "s = enum(('Q♥', 'J♠', 'K♥', 'Q♠', 1, 0, 0))\n",
    "\n",
    "evaluate_game(s)"
   ]
  },
  {
   "cell_type": "code",
   "execution_count": 28,
   "metadata": {},
   "outputs": [],
   "source": [
    "def T(s,a,s_):\n",
    "    p1,p2,t1,_,chips,pot,r = factor(s)\n",
    "    p1_,p2_,t1_,_,chips_,pot_,r_ = factor(s_)\n",
    "    \n",
    "    lBound = lambda v: v if v>=0 else 0\n",
    "    uBound = lambda v, b=6: v if v<=b else b\n",
    "\n",
    "    if chips in (6,0) and r==0:\n",
    "        return 0\n",
    "\n",
    "    prob_round_1 =  1/(math.factorial(len(deck) ) / math.factorial(len(deck)-3))\n",
    "    prob_round_2 =  1/(math.factorial(len(deck)-3) / math.factorial(len(deck)-3 - 1))\n",
    "\n",
    "    if a == 0: # fold\n",
    "        next_s = ((r_ == 0) and (pot_ == 0) and (chips_ == lBound(chips-1)))\n",
    "        return prob_round_1 if next_s else 0\n",
    "    \n",
    "    if a == 1: # call\n",
    "        if r == 0:\n",
    "            next_s = (\n",
    "                (r_ == r+1) and (pot_ == pot+1) and (chips_ == lBound(chips-1)) \n",
    "                and (p1==p1_), (p2==p2_), (t1==t1_)\n",
    "            )\n",
    "            return prob_round_2 if next_s else 0\n",
    "        else:\n",
    "            win = evaluate_game(s)\n",
    "            prize = ((pot+1)*2 if win else (0, ((pot+1)*2)//2)[win is None])\n",
    "            next_s = (\n",
    "                (r_ == 0) and (pot_ == 0) and (chips_ == uBound(lBound(chips-1+prize)))\n",
    "            )\n",
    "            return prob_round_1 if next_s else 0\n",
    "    "
   ]
  },
  {
   "cell_type": "code",
   "execution_count": 29,
   "metadata": {},
   "outputs": [
    {
     "data": {
      "text/plain": [
       "0.008333333333333333"
      ]
     },
     "execution_count": 29,
     "metadata": {},
     "output_type": "execute_result"
    }
   ],
   "source": [
    "s = enum(('J♠', 'Q♠', 'Q♥', 'K♥', 4, 0, 0))\n",
    "s_ = enum(('J♠', 'Q♠', 'Q♥', 'K♥', 3, 0, 0))\n",
    "\n",
    "T(s,0,s_)"
   ]
  },
  {
   "cell_type": "code",
   "execution_count": 30,
   "metadata": {},
   "outputs": [
    {
     "data": {
      "text/plain": [
       "0.3333333333333333"
      ]
     },
     "execution_count": 30,
     "metadata": {},
     "output_type": "execute_result"
    }
   ],
   "source": [
    "s = enum(('J♠', 'Q♠', 'Q♥', 'K♥', 4, 0, 0))\n",
    "s_ = enum(('J♠', 'Q♠', 'Q♥', 'K♥', 3, 1, 1))\n",
    "\n",
    "T(s,1,s_)"
   ]
  },
  {
   "cell_type": "code",
   "execution_count": 31,
   "metadata": {},
   "outputs": [
    {
     "data": {
      "text/plain": [
       "0.008333333333333333"
      ]
     },
     "execution_count": 31,
     "metadata": {},
     "output_type": "execute_result"
    }
   ],
   "source": [
    "s = enum(('J♠', 'Q♠', 'Q♥', 'K♥', 4, 1, 1))\n",
    "s_ = enum(('J♠', 'Q♠', 'Q♥', 'K♥', 6, 0, 0))\n",
    "\n",
    "T(s,1,s_)"
   ]
  },
  {
   "cell_type": "code",
   "execution_count": 33,
   "metadata": {},
   "outputs": [
    {
     "data": {
      "text/plain": [
       "0.008333333333333333"
      ]
     },
     "execution_count": 33,
     "metadata": {},
     "output_type": "execute_result"
    }
   ],
   "source": [
    "s = enum(('J♠', 'J♥', 'Q♥', 'K♥', 4, 1, 1))\n",
    "s_ = enum(('J♠', 'J♥', 'Q♥', 'K♥', 3, 0, 0))\n",
    "\n",
    "T(s,1,s_)"
   ]
  },
  {
   "cell_type": "code",
   "execution_count": 37,
   "metadata": {},
   "outputs": [
    {
     "data": {
      "text/plain": [
       "0"
      ]
     },
     "execution_count": 37,
     "metadata": {},
     "output_type": "execute_result"
    }
   ],
   "source": [
    "s = enum(('J♠', 'J♥', 'Q♥', 'K♥', 0, 0, 0))\n",
    "s_ = enum(('J♠', 'J♥', 'Q♥', 'K♥', 0, 1, 1))\n",
    "\n",
    "T(s,1,s_)"
   ]
  }
 ],
 "metadata": {
  "kernelspec": {
   "display_name": "Python 3",
   "language": "python",
   "name": "python3"
  },
  "language_info": {
   "codemirror_mode": {
    "name": "ipython",
    "version": 3
   },
   "file_extension": ".py",
   "mimetype": "text/x-python",
   "name": "python",
   "nbconvert_exporter": "python",
   "pygments_lexer": "ipython3",
   "version": "3.9.19"
  }
 },
 "nbformat": 4,
 "nbformat_minor": 2
}
