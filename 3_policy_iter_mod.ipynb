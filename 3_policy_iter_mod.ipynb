{
 "cells": [
  {
   "cell_type": "code",
   "execution_count": 51,
   "metadata": {},
   "outputs": [],
   "source": [
    "import numpy as np\n",
    "from src.river import River\n",
    "\n",
    "env = River()"
   ]
  },
  {
   "cell_type": "code",
   "execution_count": 322,
   "metadata": {},
   "outputs": [
    {
     "data": {
      "text/plain": [
       "[0, 0, 0, 2, 0, 2, 2, 2, 2, 1]"
      ]
     },
     "execution_count": 322,
     "metadata": {},
     "output_type": "execute_result"
    }
   ],
   "source": [
    "\n",
    "def policy_iteration(epsilon=0.1, gamma=.9, m=10):\n",
    "    v = np.zeros(env.S.size)\n",
    "    end = False\n",
    "\n",
    "    v_ = v\n",
    "    while not end:\n",
    "        v_ = v.copy()\n",
    "        pi = [np.argmax([sum([env.T(s,a,s_)*(env.R(s,a,s_) + v[s_]) for s_ in env.S]) for a in env.A]) for s in env.S]\n",
    "\n",
    "        for _ in range(m):\n",
    "            v =  np.array([sum([env.T(s,pi[s],s_)*(env.R(s,pi[s],s_) + v[s_]) for s_ in env.S]) for s in env.S])\n",
    "\n",
    "        v = np.array([max([sum([env.T(s,a,s_)*(env.R(s,a,s_) + v[s_]) for s_ in env.S]) for a in env.A]) for s in env.S])\n",
    "        end = np.linalg.norm(v_-v, ord=np.inf) < (epsilon*(1-gamma))/(2*gamma)\n",
    "\n",
    "    # return pi\n",
    "    return [np.argmax([sum([env.T(s,a,s_)*(env.R(s,a,s_) + v[s_]) for s_ in env.S]) for a in env.A]) for s in env.S]\n",
    "\n",
    "        \n",
    "\n",
    "policy_iteration(m=10, epsilon=0.1, gamma=.9)"
   ]
  }
 ],
 "metadata": {
  "kernelspec": {
   "display_name": "Python 3",
   "language": "python",
   "name": "python3"
  },
  "language_info": {
   "codemirror_mode": {
    "name": "ipython",
    "version": 3
   },
   "file_extension": ".py",
   "mimetype": "text/x-python",
   "name": "python",
   "nbconvert_exporter": "python",
   "pygments_lexer": "ipython3",
   "version": "3.9.13"
  }
 },
 "nbformat": 4,
 "nbformat_minor": 2
}
