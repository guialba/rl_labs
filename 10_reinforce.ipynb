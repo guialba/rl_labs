{
 "cells": [
  {
   "cell_type": "code",
   "execution_count": 1,
   "metadata": {},
   "outputs": [],
   "source": [
    "import numpy as np\n",
    "import torch\n",
    "import torch.nn as nn\n",
    "import torch.optim as optim\n",
    "\n",
    "from src.river import River\n",
    "\n",
    "env = River()"
   ]
  },
  {
   "cell_type": "code",
   "execution_count": 2,
   "metadata": {},
   "outputs": [],
   "source": [
    "class Pi(nn.Module):\n",
    "    def __init__(self, input_size, output_size, hidden_size=10):\n",
    "        super(Pi, self).__init__()\n",
    "        self.fc1 = nn.Linear(input_size, hidden_size)\n",
    "        self.relu = nn.ReLU()\n",
    "        self.fc2 = nn.Linear(hidden_size, output_size)\n",
    "        self.softmax = nn.Softmax(dim=-1)\n",
    "\n",
    "    def forward(self, x):\n",
    "        x = self.fc1(x)\n",
    "        x = self.relu(x)\n",
    "        x = self.fc2(x)\n",
    "        x = self.softmax(x)\n",
    "        return x\n",
    "\n",
    "input_size = 1\n",
    "output_size = 4\n",
    "\n",
    "model = Pi(input_size, output_size)"
   ]
  },
  {
   "cell_type": "code",
   "execution_count": 3,
   "metadata": {},
   "outputs": [],
   "source": [
    "def select_action(policy, state, best=False):\n",
    "    s = np.zeros(10)\n",
    "    s[state] = 1\n",
    "    state = torch.from_numpy(s).float().unsqueeze(0)\n",
    "    # state = torch.tensor([state]).float().unsqueeze(0)\n",
    "    probs = policy(state)\n",
    "    if best:\n",
    "        return torch.argmax(probs)\n",
    "    else:\n",
    "        m = torch.distributions.Categorical(probs)\n",
    "        action = m.sample()\n",
    "        return action.item(), m.log_prob(action)\n",
    "\n",
    "def generate_episode(pi, size=1000):\n",
    "    rewards = []\n",
    "    log_probs = []\n",
    "    \n",
    "    s = np.random.choice(env.S0)\n",
    "    for t in range(size):\n",
    "        a, log_prob = select_action(pi, s)\n",
    "        s_ = np.random.choice(env.S, p=[env.T(s,a,s_) for s_ in env.S])\n",
    "        r = env.R(s,a,s_)\n",
    "        \n",
    "        rewards.append(r)\n",
    "        log_probs.append(log_prob)\n",
    "        if s in env.G:\n",
    "            break\n",
    "            # s = np.random.choice(env.S0)\n",
    "        else:\n",
    "            s = s_\n",
    "\n",
    "    return rewards, log_probs\n",
    "\n",
    "def reinforce(policy, optimizer, gamma=.9, max_iter=1000, epi_sizes=1000):\n",
    "    mean_rewards = 0\n",
    "    for i in range(max_iter):\n",
    "        rewards, log_probs = generate_episode(policy, epi_sizes)\n",
    "        \n",
    "        mean_rewards += (sum(rewards) - mean_rewards) / (i+1)\n",
    "        returns = torch.tensor([gamma**t * sum([gamma**(k-t) * r for k, r in enumerate(rewards[t:])]) for t, _ in enumerate(rewards)])\n",
    "        \n",
    "        policy_loss = [-log_prob * R for log_prob, R in zip(log_probs, returns)]\n",
    "        policy_loss = torch.cat(policy_loss).sum()\n",
    "        optimizer.zero_grad()\n",
    "        policy_loss.backward()\n",
    "        optimizer.step()\n",
    "\n",
    "    return mean_rewards\n",
    "\n"
   ]
  },
  {
   "cell_type": "code",
   "execution_count": 4,
   "metadata": {},
   "outputs": [
    {
     "data": {
      "text/plain": [
       "-82.79399999999997"
      ]
     },
     "execution_count": 4,
     "metadata": {},
     "output_type": "execute_result"
    }
   ],
   "source": [
    "input_size = 10\n",
    "output_size = 4 \n",
    "learning_rate = 1e-5\n",
    "num_episodes = 1000\n",
    "episode_size = 100\n",
    "gamma = 0.999\n",
    "\n",
    "policy = Pi(input_size, output_size)\n",
    "# optimizer = optim.Adam(policy.parameters(), lr=learning_rate)\n",
    "optimizer = optim.SGD(policy.parameters(), lr=learning_rate)\n",
    "\n",
    "reinforce(policy, optimizer, gamma, num_episodes, episode_size)"
   ]
  },
  {
   "cell_type": "code",
   "execution_count": 5,
   "metadata": {},
   "outputs": [
    {
     "name": "stdout",
     "output_type": "stream",
     "text": [
      " _____________________________ \n",
      "|  →  |  →  |  →  |  →  |  →  |\n",
      "|_____|_____|_____|_____|_____|\n",
      "|  →  |  →  |  →  |  →  |  ↑  |\n",
      "|_____|_____|_____|_____|_____|\n",
      "\n"
     ]
    }
   ],
   "source": [
    "env.plot([select_action(policy, s, True) for s in env.S], True)"
   ]
  }
 ],
 "metadata": {
  "kernelspec": {
   "display_name": "Python 3",
   "language": "python",
   "name": "python3"
  },
  "language_info": {
   "codemirror_mode": {
    "name": "ipython",
    "version": 3
   },
   "file_extension": ".py",
   "mimetype": "text/x-python",
   "name": "python",
   "nbconvert_exporter": "python",
   "pygments_lexer": "ipython3",
   "version": "3.9.19"
  }
 },
 "nbformat": 4,
 "nbformat_minor": 2
}
