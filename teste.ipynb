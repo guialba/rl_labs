{
 "cells": [
  {
   "cell_type": "code",
   "execution_count": 2,
   "id": "a74203df",
   "metadata": {},
   "outputs": [
    {
     "name": "stdout",
     "output_type": "stream",
     "text": [
      " _____________________________ \n",
      "|     |     | ^.^ |     |     |\n",
      "|_____|_____|_____|_____|_____|\n",
      "|     |     |     |     |     |\n",
      "|_____|_____|_____|_____|_____|\n",
      "|     |     |     |     |     |\n",
      "|_____|_____|_____|_____|_____|\n",
      "|     |     |     |     |     |\n",
      "|_____|_____|_____|_____|_____|\n",
      "|  o  |     |     |     |     |\n",
      "|_____|_____|_____|_____|_____|\n",
      "\n"
     ]
    }
   ],
   "source": [
    "from src.hunting import Hunting\n",
    "\n",
    "env = Hunting(5,5)\n",
    "# env.plot(True)\n",
    "env.plot()"
   ]
  },
  {
   "cell_type": "code",
   "execution_count": 26,
   "id": "34dbc1c3",
   "metadata": {},
   "outputs": [
    {
     "name": "stdout",
     "output_type": "stream",
     "text": [
      "(102, -1, False, None, None)\n",
      " _____________________________ \n",
      "|     |     |     |     |     |\n",
      "|_____|_____|_____|_____|_____|\n",
      "|     |     |     |     |     |\n",
      "|_____|_____|_____|_____|_____|\n",
      "|     |     |     |     |     |\n",
      "|_____|_____|_____|_____|_____|\n",
      "|     |     |     |     |     |\n",
      "|_____|_____|_____|_____|_____|\n",
      "|     |     | ^.^ |     |  o  |\n",
      "|_____|_____|_____|_____|_____|\n",
      "\n"
     ]
    }
   ],
   "source": [
    "s, r, end, _,_ = env.last()\n",
    "print(env.step(s, 1))\n",
    "env.plot()"
   ]
  }
 ],
 "metadata": {
  "kernelspec": {
   "display_name": "Python 3 (ipykernel)",
   "language": "python",
   "name": "python3"
  },
  "language_info": {
   "codemirror_mode": {
    "name": "ipython",
    "version": 3
   },
   "file_extension": ".py",
   "mimetype": "text/x-python",
   "name": "python",
   "nbconvert_exporter": "python",
   "pygments_lexer": "ipython3",
   "version": "3.9.19"
  }
 },
 "nbformat": 4,
 "nbformat_minor": 5
}
