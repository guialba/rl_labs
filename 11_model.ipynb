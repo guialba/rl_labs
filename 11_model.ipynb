{
 "cells": [
  {
   "cell_type": "code",
   "execution_count": 1,
   "metadata": {},
   "outputs": [],
   "source": [
    "import numpy as np\n",
    "# import pandas as pd\n",
    "\n",
    "from src.river import River"
   ]
  },
  {
   "cell_type": "markdown",
   "metadata": {},
   "source": [
    "# Definição do Esimador:\n",
    "\n",
    "Frequência Relativa: \n",
    "\n",
    "$\\hat{T}(s,a,s') = \\frac{N_{s,a,s'} }{N_{s,a}+1}$ \n",
    "\n",
    "$\\hat{R}(s,a,s') = \\frac{\\sum r_{s,a,s'} }{N_{s,a}+1}$"
   ]
  },
  {
   "cell_type": "code",
   "execution_count": 2,
   "metadata": {},
   "outputs": [],
   "source": [
    "class Estimator:\n",
    "    def __init__(self, *inputs):\n",
    "        self.n = np.zeros(inputs)        \n",
    "        self.v = np.zeros(inputs)        \n",
    "    def train(self, value=1, *inputs):\n",
    "        self.n[inputs] += 1\n",
    "        self.v[inputs] += value\n",
    "    def forward(self, *inputs):\n",
    "        avg_value = (self.v[inputs] / (self.n[inputs] + 1))\n",
    "        amount = (self.n[inputs] / (np.sum(self.n, axis=2)[inputs[:-1]] + 1))\n",
    "        return avg_value * amount\n",
    "\n",
    "model = Estimator(10, 4)"
   ]
  },
  {
   "cell_type": "markdown",
   "metadata": {},
   "source": [
    "# Modelo\n",
    "#### Estimadores:  \n",
    "$\\{ \\hat{T}, \\hat{R} \\}$ "
   ]
  },
  {
   "cell_type": "code",
   "execution_count": 3,
   "metadata": {},
   "outputs": [],
   "source": [
    "class Model:\n",
    "    def __init__(self, S,A):\n",
    "        self.S = S\n",
    "        self.A = A\n",
    "        self.t = Estimator(len(S), len(A) ,len(S))\n",
    "        self.r = Estimator(len(S), len(A) ,len(S))\n",
    "\n",
    "    def learn(self, s,a,s_,r):\n",
    "        self.t.train(1, s,a,s_)\n",
    "        self.r.train(r, s,a,s_)\n",
    "    \n",
    "    def T(self, s,a,s_):\n",
    "        return self.t.forward(s,a,s_)\n",
    "    def R(self, s,a,s_):\n",
    "        return self.r.forward(s,a,s_)\n",
    "\n",
    "model = Model(range(10), range(4))"
   ]
  },
  {
   "cell_type": "markdown",
   "metadata": {},
   "source": [
    "# Algorítimo de Controle (RL):\n",
    " - Value Interation"
   ]
  },
  {
   "cell_type": "code",
   "execution_count": 4,
   "metadata": {},
   "outputs": [],
   "source": [
    "class Value_Iteration:\n",
    "    def __init__(self, model, gamma=.9, epsilon=.1):\n",
    "        self.model = model\n",
    "        self.gamma = gamma\n",
    "        self.epsilon = epsilon\n",
    "        self.v = np.zeros(self.model.S.size)\n",
    "\n",
    "    def bellman(self, s,a):\n",
    "        return sum([self.model.T(s,a,s_)*(self.model.R(s,a,s_)+self.gamma*self.v[s_]) for s_ in self.model.S])\n",
    "    \n",
    "    def run(self):\n",
    "        while True:\n",
    "            v = self.v.copy()\n",
    "            for s in self.model.S:\n",
    "                self.v[s] = np.max([self.bellman(s,a) for a in self.model.A])\n",
    "            if np.linalg.norm(v-self.v, ord=np.inf) < (self.epsilon*(1-self.gamma))/(2*self.gamma):\n",
    "                break\n",
    "\n",
    "    def control(self):\n",
    "        return [np.argmax([np.sum([self.model.T(s,a,s_)*(self.model.R(s,a,s_) + self.gamma*self.v[s_]) for s_ in self.model.S]) for a in self.model.A]) for s in self.model.S]"
   ]
  },
  {
   "cell_type": "markdown",
   "metadata": {},
   "source": [
    "# Agente"
   ]
  },
  {
   "cell_type": "code",
   "execution_count": 5,
   "metadata": {},
   "outputs": [],
   "source": [
    "class Agent:\n",
    "    def __init__(self, S, A, gamma=.9, epsilon=.1):\n",
    "        self.gamma = gamma\n",
    "        self.epsilon = epsilon\n",
    "        self.model = Model(S, A)\n",
    "        self.rl = Value_Iteration(self.model, self.gamma, self.epsilon)\n",
    "    \n",
    "    def learn(self, s,a,s_,r):\n",
    "        self.model.learn(s,a,s_,r)\n",
    "        self.rl.run()\n",
    "\n",
    "    def act(self, s):\n",
    "        pi = self.get_policy()\n",
    "        return pi[s]\n",
    "    def evaluate(self, s):\n",
    "        v = self.get_v()\n",
    "        return v[s]\n",
    "    \n",
    "    def get_v(self):\n",
    "        return self.rl.v\n",
    "    def get_policy(self):\n",
    "        return self.rl.control()\n",
    "                "
   ]
  },
  {
   "cell_type": "markdown",
   "metadata": {},
   "source": [
    "# Simulação"
   ]
  },
  {
   "cell_type": "code",
   "execution_count": 6,
   "metadata": {},
   "outputs": [],
   "source": [
    "def generate_episode(env,agent, size_limit=100):\n",
    "    data = []\n",
    "    env.reset()\n",
    "    for _ in range(size_limit):\n",
    "        s, _, _, _, _ = env.last()\n",
    "        a = agent.act(s)\n",
    "        s_, r, end, _, _ = env.step(s,a)\n",
    "        \n",
    "        step = (s,a,s_,r) \n",
    "        agent.learn(*step) \n",
    "        data.append(step)\n",
    "        if end: break\n",
    "    return data\n",
    "\n",
    "def experiment(env, agent, max_iterations=1000, episode_sizes=100):\n",
    "    data = []\n",
    "    for _ in range(max_iterations):\n",
    "        epi = generate_episode(env, agent, episode_sizes)\n",
    "        data.append(len(epi))    \n",
    "    return data\n",
    "\n"
   ]
  },
  {
   "cell_type": "markdown",
   "metadata": {},
   "source": [
    "# Experimentação"
   ]
  },
  {
   "cell_type": "code",
   "execution_count": 28,
   "metadata": {},
   "outputs": [],
   "source": [
    "env = River()\n",
    "\n",
    "epsilon = 0.1\n",
    "gamma = 0.9\n",
    "num_episodes = 100\n",
    "episode_size = 12\n",
    "\n",
    "agent = Agent(env.S, env.A, gamma, epsilon)"
   ]
  },
  {
   "cell_type": "code",
   "execution_count": 31,
   "metadata": {},
   "outputs": [],
   "source": [
    "exp = experiment(env, agent, num_episodes, episode_size)\n",
    "# exp"
   ]
  },
  {
   "cell_type": "code",
   "execution_count": 32,
   "metadata": {},
   "outputs": [
    {
     "name": "stdout",
     "output_type": "stream",
     "text": [
      " _____________________________ \n",
      "|-3.89|-3.28| -2.6|-1.83|-0.97|\n",
      "|_____|_____|_____|_____|_____|\n",
      "|-4.42|-3.85|-3.13|-2.23| 0.0 |\n",
      "|_____|_____|_____|_____|_____|\n",
      "\n",
      " _____________________________ \n",
      "|  →  |  →  |  →  |  →  |  ↓  |\n",
      "|_____|_____|_____|_____|_____|\n",
      "|  ↑  |  →  |  →  |  →  |  ↑  |\n",
      "|_____|_____|_____|_____|_____|\n",
      "\n"
     ]
    }
   ],
   "source": [
    "env.plot(list(np.round(agent.get_v(), 2)))\n",
    "env.plot(agent.get_policy(), True)"
   ]
  },
  {
   "cell_type": "code",
   "execution_count": 33,
   "metadata": {},
   "outputs": [
    {
     "data": {
      "text/plain": [
       "0.9864408348373362"
      ]
     },
     "execution_count": 33,
     "metadata": {},
     "output_type": "execute_result"
    }
   ],
   "source": [
    "agent.model.T(0,0,5)"
   ]
  }
 ],
 "metadata": {
  "kernelspec": {
   "display_name": "Python 3",
   "language": "python",
   "name": "python3"
  },
  "language_info": {
   "codemirror_mode": {
    "name": "ipython",
    "version": 3
   },
   "file_extension": ".py",
   "mimetype": "text/x-python",
   "name": "python",
   "nbconvert_exporter": "python",
   "pygments_lexer": "ipython3",
   "version": "3.9.19"
  }
 },
 "nbformat": 4,
 "nbformat_minor": 2
}
