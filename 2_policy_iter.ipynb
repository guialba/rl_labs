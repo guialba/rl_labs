{
 "cells": [
  {
   "cell_type": "code",
   "execution_count": 1,
   "metadata": {},
   "outputs": [],
   "source": [
    "import numpy as np\n",
    "from src.river import River\n",
    "\n",
    "env = River()"
   ]
  },
  {
   "cell_type": "code",
   "execution_count": 2,
   "metadata": {},
   "outputs": [
    {
     "data": {
      "text/plain": [
       "[0, 0, 0, 2, 0, 2, 2, 2, 2, 1]"
      ]
     },
     "execution_count": 2,
     "metadata": {},
     "output_type": "execute_result"
    }
   ],
   "source": [
    "\n",
    "\n",
    "def policy_evaluation(pi, gamma=.9):\n",
    "    r = np.sum(np.array([[env.R(s, pi[s], s_)*env.T(s, pi[s], s_) for s_ in env.S] for s in env.S]), axis=1)\n",
    "    t = np.array([[env.T(s, pi[s], s_) for s_ in env.S] for s in env.S])\n",
    "    i = np.identity(env.S.size)\n",
    "    return np.matmul(np.linalg.inv(i - gamma*t), r)\n",
    "\n",
    "def policy_improvement(v, gamma=.9):\n",
    "    pi = [np.argmax([sum([env.T(s,a,s_)*(env.R(s,a,s_) + gamma*v[s_]) for s_ in env.S]) for a in env.A]) for s in env.S]\n",
    "    return pi\n",
    "\n",
    "\n",
    "\n",
    "def policy_iteration(gamma=.9):\n",
    "    pi = [0 for _ in env.S]\n",
    "    v = policy_evaluation(pi, gamma)\n",
    "    end = [True]\n",
    "\n",
    "    while any(end):\n",
    "        pi = policy_improvement(v, gamma)\n",
    "        v = policy_evaluation(pi, gamma)\n",
    "\n",
    "        best_a = [max([sum([env.T(s,a,s_)*(env.R(s,a,s_) + gamma*v[s_]) for s_ in env.S]) for a in env.A]) for s in env.S]\n",
    "        end = [a<b for a,b in zip(v, best_a)]\n",
    "\n",
    "        # print(end)\n",
    "    return pi\n",
    "        \n",
    "\n",
    "pi = policy_iteration(gamma=.9)\n",
    "pi"
   ]
  },
  {
   "cell_type": "code",
   "execution_count": 8,
   "metadata": {},
   "outputs": [
    {
     "name": "stdout",
     "output_type": "stream",
     "text": [
      " _____________________________ \n",
      "|  →  |  →  |  →  |  →  |  ↓  |\n",
      "|_____|_____|_____|_____|_____|\n",
      "|  ↑  |  ↑  |  ↑  |  →  |  ↑  |\n",
      "|_____|_____|_____|_____|_____|\n",
      "\n"
     ]
    }
   ],
   "source": [
    "env.plot(pi, True)"
   ]
  }
 ],
 "metadata": {
  "kernelspec": {
   "display_name": "Python 3",
   "language": "python",
   "name": "python3"
  },
  "language_info": {
   "codemirror_mode": {
    "name": "ipython",
    "version": 3
   },
   "file_extension": ".py",
   "mimetype": "text/x-python",
   "name": "python",
   "nbconvert_exporter": "python",
   "pygments_lexer": "ipython3",
   "version": "3.9.13"
  }
 },
 "nbformat": 4,
 "nbformat_minor": 2
}
