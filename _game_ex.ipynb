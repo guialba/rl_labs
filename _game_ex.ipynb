{
 "cells": [
  {
   "cell_type": "code",
   "execution_count": 1,
   "metadata": {},
   "outputs": [],
   "source": [
    "import numpy as np\n",
    "import math\n",
    "from src.texas_holdem_simp import Texas_Holdem_Simp\n",
    "\n",
    "env = Texas_Holdem_Simp()"
   ]
  },
  {
   "cell_type": "markdown",
   "metadata": {},
   "source": [
    "# Primeira Rodada"
   ]
  },
  {
   "cell_type": "code",
   "execution_count": 8,
   "metadata": {},
   "outputs": [
    {
     "name": "stdout",
     "output_type": "stream",
     "text": [
      "----(1)-----\n",
      "|P2(3): Q♠ |\n",
      "|(2): K♥-**|\n",
      "|P1(5): K♠ |\n",
      "------------\n"
     ]
    }
   ],
   "source": [
    "s = np.random.choice(env.S0)\n",
    "# print(s)\n",
    "env.plot(s)"
   ]
  },
  {
   "cell_type": "markdown",
   "metadata": {},
   "source": [
    "## Possibilidades no caso de \"call\" "
   ]
  },
  {
   "cell_type": "code",
   "execution_count": 10,
   "metadata": {},
   "outputs": [
    {
     "name": "stdout",
     "output_type": "stream",
     "text": [
      "----(2)-----\n",
      "|P2(2): Q♠ |\n",
      "|(4): K♥-J♥|\n",
      "|P1(4): K♠ |\n",
      "------------\n",
      "----(2)-----\n",
      "|P2(2): Q♠ |\n",
      "|(4): K♥-J♠|\n",
      "|P1(4): K♠ |\n",
      "------------\n",
      "----(2)-----\n",
      "|P2(2): Q♠ |\n",
      "|(4): K♥-Q♥|\n",
      "|P1(4): K♠ |\n",
      "------------\n"
     ]
    }
   ],
   "source": [
    "for s_ in env.S:\n",
    "    p = env.T(s,1,s_)\n",
    "    if p>0:\n",
    "        # print(s_)\n",
    "        # print(p)\n",
    "        # print(env.R(s,1,s_))\n",
    "        env.plot(s_)"
   ]
  },
  {
   "cell_type": "code",
   "execution_count": 15,
   "metadata": {},
   "outputs": [
    {
     "name": "stdout",
     "output_type": "stream",
     "text": [
      "----(2)-----\n",
      "|P2(2): Q♠ |\n",
      "|(4): K♥-J♥|\n",
      "|P1(4): K♠ |\n",
      "------------\n",
      "Recompensa:  -2\n"
     ]
    }
   ],
   "source": [
    "s_ = np.random.choice(env.S, p=[env.T(s,1,s_) for s_ in env.S])\n",
    "env.plot(s_)\n",
    "print('Recompensa: ', env.R(s,1,s_))\n"
   ]
  }
 ],
 "metadata": {
  "kernelspec": {
   "display_name": "Python 3",
   "language": "python",
   "name": "python3"
  },
  "language_info": {
   "codemirror_mode": {
    "name": "ipython",
    "version": 3
   },
   "file_extension": ".py",
   "mimetype": "text/x-python",
   "name": "python",
   "nbconvert_exporter": "python",
   "pygments_lexer": "ipython3",
   "version": "3.9.19"
  }
 },
 "nbformat": 4,
 "nbformat_minor": 2
}
