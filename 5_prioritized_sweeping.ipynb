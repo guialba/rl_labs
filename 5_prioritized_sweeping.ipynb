{
 "cells": [
  {
   "cell_type": "code",
   "execution_count": 1,
   "metadata": {},
   "outputs": [],
   "source": [
    "import numpy as np\n",
    "from src.river import River\n",
    "\n",
    "env = River()"
   ]
  },
  {
   "cell_type": "code",
   "execution_count": 2,
   "metadata": {},
   "outputs": [],
   "source": [
    "def policy_iteration(k=5, epsilon=0.1, gamma=.9):\n",
    "    v = np.zeros(env.S.size)\n",
    "    H = np.zeros(env.S.size)\n",
    "\n",
    "    end = False\n",
    "\n",
    "    v_ = v\n",
    "    bell = lambda s:  max([sum([env.T(s,a,s_)*(env.R(s,a,s_) + gamma*v[s_]) for s_ in env.S]) for a in env.A])\n",
    "    delta = lambda s: np.abs(v[s]-v_[s])\n",
    "    while not end:\n",
    "        v_ = v.copy()\n",
    "\n",
    "        for _ in range(k):\n",
    "            sk = np.argmax(H)\n",
    "            v[sk] = bell(sk)\n",
    "            # v[sk] = max([sum([env.T(sk,a,s_)*(env.R(sk,a,s_) + gamma*v[s_]) for s_ in env.S]) for a in env.A])\n",
    "        \n",
    "            H = [\n",
    "                max([H[s], delta(sk) * max([env.T(s, a, sk) for a in env.A])])\n",
    "                # max([H[s], np.abs(v[sk]-v_[sk]) * max([env.T(s, a, sk) for a in env.A])])\n",
    "                if s!=sk else \n",
    "                # np.abs(v[sk]-v_[sk]) * max([env.T(s, a, sk) for a in env.A]) \n",
    "                delta(sk) * max([env.T(s, a, sk) for a in env.A]) \n",
    "                for s in env.S\n",
    "            ]\n",
    "        # H = [delta(s) for s in env.S]\n",
    "        # Critério de Parada\n",
    "        end = np.linalg.norm(v_-v, ord=np.inf) < (epsilon*(1-gamma))/(2*gamma)\n",
    "\n",
    "    # return pi\n",
    "    return [np.argmax([sum([env.T(s,a,s_)*(env.R(s,a,s_) + gamma*v[s_]) for s_ in env.S]) for a in env.A]) for s in env.S]\n",
    "\n",
    "        \n",
    "\n",
    "pi = policy_iteration(k=5, epsilon=0.1, gamma=.9)"
   ]
  },
  {
   "cell_type": "code",
   "execution_count": 3,
   "metadata": {},
   "outputs": [
    {
     "name": "stdout",
     "output_type": "stream",
     "text": [
      " _____________________________ \n",
      "|  →  |  →  |  →  |  →  |  ↓  |\n",
      "|_____|_____|_____|_____|_____|\n",
      "|  ↑  |  ↑  |  ↑  |  →  |  ↑  |\n",
      "|_____|_____|_____|_____|_____|\n",
      "\n"
     ]
    }
   ],
   "source": [
    "env.plot(pi, True)"
   ]
  }
 ],
 "metadata": {
  "kernelspec": {
   "display_name": "Python 3",
   "language": "python",
   "name": "python3"
  },
  "language_info": {
   "codemirror_mode": {
    "name": "ipython",
    "version": 3
   },
   "file_extension": ".py",
   "mimetype": "text/x-python",
   "name": "python",
   "nbconvert_exporter": "python",
   "pygments_lexer": "ipython3",
   "version": "3.9.19"
  }
 },
 "nbformat": 4,
 "nbformat_minor": 2
}
