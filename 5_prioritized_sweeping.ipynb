{
 "cells": [
  {
   "cell_type": "code",
   "execution_count": 400,
   "metadata": {},
   "outputs": [],
   "source": [
    "import numpy as np\n",
    "from src.river import River\n",
    "\n",
    "env = River()"
   ]
  },
  {
   "cell_type": "code",
   "execution_count": 441,
   "metadata": {},
   "outputs": [
    {
     "data": {
      "text/plain": [
       "[0, 0, 0, 2, 0, 0, 0, 0, 0, 1]"
      ]
     },
     "execution_count": 441,
     "metadata": {},
     "output_type": "execute_result"
    }
   ],
   "source": [
    "def policy_iteration(epsilon=0.1, gamma=.9):\n",
    "    v = np.zeros(env.S.size)\n",
    "    H = np.zeros(env.S.size)\n",
    "    # v = np.random.random(env.S.size)\n",
    "    # H = np.random.random(env.S.size)\n",
    "    # H = [max([max([env.T(s,a,g) for g in env.G]) for a in env.A]) for s in env.S]\n",
    "    # H[4] = np.inf\n",
    "    end = False\n",
    "\n",
    "    v_ = v\n",
    "    bell = lambda s:  max([sum([env.T(s,a,s_)*(env.R(s,a,s_) + gamma*v[s_]) for s_ in env.S]) for a in env.A])\n",
    "    delta = lambda s: np.abs(v[s]-v_[s])\n",
    "    while not end:\n",
    "        v_ = v.copy()\n",
    "\n",
    "        sk = np.argmax(H)\n",
    "        v[sk] = bell(sk)\n",
    "        H = [max([H[s], delta(sk)*max([env.T(s, a, sk) for a in env.A])]) if s!=sk else delta(sk)*max([env.T(s, a, sk) for a in env.A]) for s in env.S]\n",
    "        # H = [delta(s) for s in env.S]\n",
    "\n",
    "        # Critério de Parada\n",
    "        end = np.linalg.norm(v_-v, ord=np.inf) < (epsilon*(1-gamma))/(2*gamma)\n",
    "\n",
    "    # return pi\n",
    "    return [np.argmax([sum([env.T(s,a,s_)*(env.R(s,a,s_) + gamma*v[s_]) for s_ in env.S]) for a in env.A]) for s in env.S]\n",
    "\n",
    "        \n",
    "\n",
    "policy_iteration(epsilon=0.1, gamma=.9)"
   ]
  }
 ],
 "metadata": {
  "kernelspec": {
   "display_name": "Python 3",
   "language": "python",
   "name": "python3"
  },
  "language_info": {
   "codemirror_mode": {
    "name": "ipython",
    "version": 3
   },
   "file_extension": ".py",
   "mimetype": "text/x-python",
   "name": "python",
   "nbconvert_exporter": "python",
   "pygments_lexer": "ipython3",
   "version": "3.9.13"
  }
 },
 "nbformat": 4,
 "nbformat_minor": 2
}
