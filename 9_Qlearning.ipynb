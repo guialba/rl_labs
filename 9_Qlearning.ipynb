{
 "cells": [
  {
   "cell_type": "code",
   "execution_count": 1,
   "metadata": {},
   "outputs": [],
   "source": [
    "import numpy as np\n",
    "from src.river import River\n",
    "\n",
    "env = River()"
   ]
  },
  {
   "cell_type": "code",
   "execution_count": 2,
   "metadata": {},
   "outputs": [
    {
     "name": "stdout",
     "output_type": "stream",
     "text": [
      " _____________________________ \n",
      "|  →  |  →  |  →  |  →  |  ↓  |\n",
      "|_____|_____|_____|_____|_____|\n",
      "|  ↑  |  ↑  |  →  |  ↑  |  ↑  |\n",
      "|_____|_____|_____|_____|_____|\n",
      "\n"
     ]
    }
   ],
   "source": [
    "def qlearning(max_iter=1000, gamma=.9, alpha=.9):\n",
    "    Q = np.zeros((env.S.size, env.A.size))\n",
    "    # Qb = np.zeros((env.S.size, env.A.size))\n",
    "    \n",
    "    # upadate = [\n",
    "    #     lambda s: \n",
    "    # ]\n",
    "\n",
    "    s = np.random.choice(env.S0)\n",
    "    for i in range(max_iter):\n",
    "        a = np.random.choice(np.flatnonzero(Q[s] == Q[s].max()))\n",
    "        s_ = np.random.choice(env.S, p=[env.T(s,a,s_) for s_ in env.S])\n",
    "        r = env.R(s,a,s_)\n",
    "\n",
    "        delta = r + gamma*np.max([Q[s_,a_] for a_ in env.A]) - Q[s,a]\n",
    "        Q[s,a] +=  alpha*delta\n",
    "\n",
    "        if s_ in env.G:\n",
    "            s = np.random.choice(env.S0)\n",
    "        else:\n",
    "            s = s_\n",
    "\n",
    "    return [np.argmax(s) for s in Q]\n",
    "\n",
    "    \n",
    "pi = qlearning(max_iter=500)\n",
    "env.plot(pi, True)"
   ]
  }
 ],
 "metadata": {
  "kernelspec": {
   "display_name": "Python 3",
   "language": "python",
   "name": "python3"
  },
  "language_info": {
   "codemirror_mode": {
    "name": "ipython",
    "version": 3
   },
   "file_extension": ".py",
   "mimetype": "text/x-python",
   "name": "python",
   "nbconvert_exporter": "python",
   "pygments_lexer": "ipython3",
   "version": "3.9.19"
  }
 },
 "nbformat": 4,
 "nbformat_minor": 2
}
