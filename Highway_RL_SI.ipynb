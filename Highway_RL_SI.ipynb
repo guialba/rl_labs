{
 "cells": [
  {
   "cell_type": "markdown",
   "id": "5e7380df-1036-4173-8fa4-08f0b6948ec1",
   "metadata": {},
   "source": [
    "# Café ou acarajé environment"
   ]
  },
  {
   "cell_type": "code",
   "execution_count": 17,
   "id": "e37580ec-f8f6-4bc2-9aa0-0d3436234bfa",
   "metadata": {},
   "outputs": [
    {
     "name": "stdout",
     "output_type": "stream",
     "text": [
      "Estado inicial: F\n",
      "Action: D1, Next state: F, Reward: 0, Done: False\n",
      "Action: D3, Next state: D, Reward: 0, Done: False\n",
      "Action: D3, Next state: B, Reward: 0, Done: False\n",
      "Action: D1, Next state: Café, Reward: 1, Done: True\n",
      "Chegou ao Café! Fim do jogo.\n",
      "Número total de jogadas: 4\n",
      "Probabilidade de transitar de F para D com ação D1: 0.16666666666666666\n",
      "Probabilidade de transitar de B para F com ação D2: 0.3333333333333333\n"
     ]
    }
   ],
   "source": [
    "import numpy as np\n",
    "\n",
    "class CafeAcarajeGame:\n",
    "    def __init__(self):\n",
    "        self.states = [\"F\", \"E\", \"D\", \"Café\", \"B\", \"Acarajé\"]\n",
    "        self.dice = {\n",
    "            \"D1\": [1, 2, 3, 4, 5, 6],\n",
    "            \"D2\": [1, 1, 2, 2, 3, 3],\n",
    "            \"D3\": [1, 1, 1, 2, 2, 2]\n",
    "        }\n",
    "        self.state = \"F\"  # Estado inicial\n",
    "    \n",
    "    def roll_dice(self, dice_choice):\n",
    "        if dice_choice not in self.dice:\n",
    "            raise ValueError(\"Invalid dice choice\")\n",
    "        return np.random.choice(self.dice[dice_choice])\n",
    "    \n",
    "    def step(self, action):\n",
    "        dice_choice = action\n",
    "        roll = self.roll_dice(dice_choice)\n",
    "        \n",
    "        # Encontrar o índice do estado atual\n",
    "        current_index = self.states.index(self.state)\n",
    "        \n",
    "        # Calcular o novo índice baseado no roll\n",
    "        new_index = (current_index + roll) % len(self.states)\n",
    "        \n",
    "        # Atualizar o estado\n",
    "        self.state = self.states[new_index]\n",
    "        \n",
    "        # Calcular a recompensa\n",
    "        # reward = 1 if self.state == \"Café\" else 0\n",
    "        done = self.state == \"Café\"\n",
    "        reward = self.reward(self.state)\n",
    "        \n",
    "        return self.state, reward, done\n",
    "\n",
    "    def reward(self, state):\n",
    "        # Calcular a recompensa\n",
    "        reward = 1 if state == \"Café\" else 0\n",
    "        return reward\n",
    "    \n",
    "    def reset(self):\n",
    "        self.state = \"F\"  # Estado inicial\n",
    "        return self.state\n",
    "\n",
    "    def transition_probability(self, state, action, next_state):\n",
    "        \"\"\"Calcula a probabilidade de transitar de state para next_state dado action\"\"\"\n",
    "        if action not in self.dice:\n",
    "            raise ValueError(\"Invalid action\")\n",
    "        \n",
    "        current_index = self.states.index(state)\n",
    "        next_index = self.states.index(next_state)\n",
    "        \n",
    "        count = 0\n",
    "        for roll in self.dice[action]:\n",
    "            if (current_index + roll) % len(self.states) == next_index:\n",
    "                count += 1\n",
    "        \n",
    "        probability = count / len(self.dice[action])\n",
    "        return probability\n",
    "\n",
    "# Uso do ambiente\n",
    "env = CafeAcarajeGame()\n",
    "state = env.reset()\n",
    "print(f\"Estado inicial: {state}\")\n",
    "num_steps = 0\n",
    "\n",
    "for _ in range(10):\n",
    "    action = np.random.choice([\"D1\", \"D2\", \"D3\"])  # Escolher um dado aleatoriamente\n",
    "    next_state, reward, done = env.step(action)\n",
    "    num_steps += 1\n",
    "    print(f\"Action: {action}, Next state: {next_state}, Reward: {reward}, Done: {done}\")\n",
    "    if done:\n",
    "        print(\"Chegou ao Café! Fim do jogo.\")\n",
    "        break\n",
    "\n",
    "print(f\"Número total de jogadas: {num_steps}\")\n",
    "\n",
    "# Teste da função de transição\n",
    "state = \"F\"\n",
    "action = \"D1\"\n",
    "next_state = \"D\"\n",
    "prob = env.transition_probability(state, action, next_state)\n",
    "print(f\"Probabilidade de transitar de {state} para {next_state} com ação {action}: {prob}\")\n",
    "\n",
    "state = \"B\"\n",
    "action = \"D2\"\n",
    "next_state = \"F\"\n",
    "prob = env.transition_probability(state, action, next_state)\n",
    "print(f\"Probabilidade de transitar de {state} para {next_state} com ação {action}: {prob}\")"
   ]
  },
  {
   "cell_type": "code",
   "execution_count": 18,
   "id": "4e7acdc4-5bef-4663-a515-646678b7a976",
   "metadata": {},
   "outputs": [
    {
     "data": {
      "text/plain": [
       "['D2', 'D3', 'D3', 'D1', 'D1', 'D1']"
      ]
     },
     "execution_count": 18,
     "metadata": {},
     "output_type": "execute_result"
    }
   ],
   "source": [
    "t = np.array([[[env.transition_probability(s,a,s_) for s_ in env.states] for a in env.dice] for s in env.states])\n",
    "r = np.array([[[env.reward(s) for s in env.states] for a in env.dice] for s_ in env.states])\n",
    "#r = np.array([[np.sum([env.reward(s_) * env.transition_probability(s,a,s_) for s_ in env.states]) for a in env.dice] for s in env.states])\n",
    "# v = np.array([0.0 for s in env.states])\n",
    "v = np.zeros(len(env.states))\n",
    "eps = 0.1\n",
    "gamma = 0.9\n",
    "pi = [\"\" for s in env.states]\n",
    "while True:\n",
    "    v_ = v.copy() #Esse é o v antigo\n",
    "    for s,_ in enumerate(env.states):\n",
    "        # print(np.max([\n",
    "        #     (np.sum([t[s,0,s_] * (r[s,0,s_] + v_[s_] ) for s_,_ in enumerate(env.states)] ) * gamma),\n",
    "        #     (np.sum([t[s,1,s_] * (r[s,1,s_] + v_[s_] ) for s_,_ in enumerate(env.states)] ) * gamma),\n",
    "        #     (np.sum([t[s,2,s_] * (r[s,2,s_] + v_[s_] ) for s_,_ in enumerate(env.states)] ) * gamma)]))\n",
    "        \n",
    "        # print( np.max([gamma * np.sum([t[s,a,s_]* (r[s,a,s_] + v_[s_]) for s_,_ in enumerate(env.states)]) for a,_ in enumerate(env.dice)]) )\n",
    "        v[s] = np.max([gamma * np.sum([t[s,a,s_]* (r[s,a,s_] + v_[s_]) for s_,_ in enumerate(env.states)]) for a,_ in enumerate(env.dice)])\n",
    "        # print(v[s])\n",
    "        action = np.argmax([gamma * np.sum( [t[s,a,s_]* (r[s,a,s_] + v_[s_]) for s_,_ in enumerate(env.states)]) for a,_ in enumerate(env.dice)] )\n",
    "        pi[s] = [a for i,a in enumerate(env.dice)] [action] \n",
    "    #print(np.linalg.norm(v_ - v, ord=np.inf))\n",
    "    if (np.linalg.norm(v_ - v, ord=np.inf) < (eps * ((1 - gamma) /(2 * gamma))) ):\n",
    "        break\n",
    "\n",
    "#Printar a politica\n",
    "# v\n",
    "pi\n",
    "\n",
    "#Talvez mudar o environment e testar novamente."
   ]
  },
  {
   "cell_type": "code",
   "execution_count": null,
   "id": "a11915cd",
   "metadata": {},
   "outputs": [],
   "source": []
  }
 ],
 "metadata": {
  "kernelspec": {
   "display_name": "Python 3 (ipykernel)",
   "language": "python",
   "name": "python3"
  },
  "language_info": {
   "codemirror_mode": {
    "name": "ipython",
    "version": 3
   },
   "file_extension": ".py",
   "mimetype": "text/x-python",
   "name": "python",
   "nbconvert_exporter": "python",
   "pygments_lexer": "ipython3",
   "version": "3.9.19"
  }
 },
 "nbformat": 4,
 "nbformat_minor": 5
}
