{
 "cells": [
  {
   "cell_type": "code",
   "execution_count": 1,
   "metadata": {},
   "outputs": [],
   "source": [
    "import numpy as np\n",
    "from src.river import River\n",
    "\n",
    "env = River()"
   ]
  },
  {
   "cell_type": "code",
   "execution_count": 2,
   "metadata": {},
   "outputs": [
    {
     "name": "stdout",
     "output_type": "stream",
     "text": [
      " _____________________________ \n",
      "| -5.0| -4.0| -3.0| -2.0| -1.0|\n",
      "|_____|_____|_____|_____|_____|\n",
      "| -6.0|-5.88|-3.75| -3.0| 0.0 |\n",
      "|_____|_____|_____|_____|_____|\n",
      "\n",
      " _____________________________ \n",
      "|  →  |  →  |  →  |  →  |  ↓  |\n",
      "|_____|_____|_____|_____|_____|\n",
      "|  ↑  |  →  |  ↑  |  →  |  ↑  |\n",
      "|_____|_____|_____|_____|_____|\n",
      "\n"
     ]
    }
   ],
   "source": [
    "\n",
    "def lrtdp(max_iter=1000, epsilon=.1, gamma=.9):\n",
    "    v = np.zeros(env.S.size)\n",
    "    H = np.zeros(env.S.size)\n",
    "    solved = [False for _ in env.S]\n",
    "\n",
    "    curr_iter = 0\n",
    "\n",
    "    bell = lambda s:  max([sum([env.T(s,a,s_)*(env.R(s,a,s_) + gamma*v[s_]) for s_ in env.S]) for a in env.A])\n",
    "    greedy = lambda s: np.argmax([sum([env.T(s,a,s_)*(env.R(s,a,s_) + gamma*v[s_]) for s_ in env.S]) for a in env.A])\n",
    "\n",
    "    def check_solved(s):\n",
    "        rv = True\n",
    "        opened, closed = [], []\n",
    "        if not solved[s]:\n",
    "            opened.append(s)\n",
    "        while len(opened)>0:\n",
    "            s = opened.pop()\n",
    "            closed.append(s)\n",
    "            if abs(bell(s)-v[s]) > epsilon:\n",
    "                rv = False\n",
    "                continue\n",
    "            a = greedy(s)\n",
    "            for s_ in env.S:\n",
    "                if env.T(s,a,s_)>0:\n",
    "                    if not solved[s_] and not(s_ in opened+closed):\n",
    "                        opened.append(s_)\n",
    "        if rv:\n",
    "            for s_ in closed:\n",
    "                if not solved[s_]:\n",
    "                    solved[s_] = True\n",
    "        else:\n",
    "            for s_ in closed:\n",
    "                v[s_] = bell(s_)\n",
    "        return rv\n",
    "\n",
    "    while not(all([solved[s0] for s0 in env.S0])) and curr_iter<max_iter:\n",
    "        curr_iter += 1\n",
    "        visited = []\n",
    "        s = np.random.choice(env.S0)\n",
    "        while not solved[s]:\n",
    "            visited.append(s)\n",
    "            if s in env.G: break\n",
    "            a = greedy(s)\n",
    "            v[s] = bell(s)\n",
    "            s = np.random.choice(env.S, p=[env.T(s,a,s_) for s_ in env.S])\n",
    "        while len(visited) > 0:\n",
    "            s = visited.pop()\n",
    "            if not check_solved(s): break\n",
    "\n",
    "    env.plot(list(np.round(v, 2)))\n",
    "    return [greedy(s) for s in env.S]\n",
    "        \n",
    "\n",
    "pi = lrtdp(epsilon=.1, gamma=1)\n",
    "env.plot(pi, True)"
   ]
  },
  {
   "cell_type": "code",
   "execution_count": 3,
   "metadata": {},
   "outputs": [
    {
     "data": {
      "text/plain": [
       "[0, 2, 0, 2, 0, 2, 2, 2, 2, 1]"
      ]
     },
     "execution_count": 3,
     "metadata": {},
     "output_type": "execute_result"
    }
   ],
   "source": [
    "pi"
   ]
  }
 ],
 "metadata": {
  "kernelspec": {
   "display_name": "Python 3",
   "language": "python",
   "name": "python3"
  },
  "language_info": {
   "codemirror_mode": {
    "name": "ipython",
    "version": 3
   },
   "file_extension": ".py",
   "mimetype": "text/x-python",
   "name": "python",
   "nbconvert_exporter": "python",
   "pygments_lexer": "ipython3",
   "version": "3.9.19"
  }
 },
 "nbformat": 4,
 "nbformat_minor": 2
}
