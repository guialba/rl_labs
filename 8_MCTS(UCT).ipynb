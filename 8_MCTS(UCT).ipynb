{
 "cells": [
  {
   "cell_type": "code",
   "execution_count": 1,
   "metadata": {},
   "outputs": [],
   "source": [
    "import numpy as np\n",
    "from src.river import River\n",
    "\n",
    "env = River()"
   ]
  },
  {
   "cell_type": "code",
   "execution_count": 2,
   "metadata": {},
   "outputs": [
    {
     "name": "stdout",
     "output_type": "stream",
     "text": [
      " _____________________________ \n",
      "|  →  |  →  |  →  |  →  |  ↓  |\n",
      "|_____|_____|_____|_____|_____|\n",
      "|  ↑  |     |     |     |     |\n",
      "|_____|_____|_____|_____|_____|\n",
      "\n"
     ]
    }
   ],
   "source": [
    "def uct(max_iter=1000, max_d=10, gamma=.9, beta=1):\n",
    "    Q = np.zeros((max_d, env.S.size, env.A.size))\n",
    "    n = np.zeros((max_d, env.S.size, env.A.size))\n",
    "\n",
    "    def bestActions(s, d, pi={}):\n",
    "        if s in env.G:\n",
    "            return pi\n",
    "        \n",
    "        a = np.argmax([Q[d,s,a] for a in env.A])\n",
    "        s_ = np.random.choice(env.S, p=[env.T(s,a,s_) for s_ in env.S])\n",
    "        pi[s] = a\n",
    "        if d == (Q.shape[0]-1):\n",
    "            return pi \n",
    "        return bestActions(s_, d+1, pi)\n",
    "\n",
    "    def evaluate(s):\n",
    "        return env.R(s) + sum([env.R(s_) for s_ in env.S for a in env.A if env.T(s,a,s_)>0])\n",
    "\n",
    "    def search(s, d):\n",
    "        if s in env.G:\n",
    "            return 0\n",
    "        if d == (Q.shape[0]-1):\n",
    "            return evaluate(s)\n",
    "        \n",
    "        expl = lambda a: ((np.log(np.sum(n[d,s]))/n[d,s,a])**.5) if n[d,s,a]>0 else 0\n",
    "        a = np.argmax([Q[d,s,a] + beta*expl(a) for a in env.A])\n",
    "        s_ = np.random.choice(env.S, p=[env.T(s,a,s_) for s_ in env.S])\n",
    "        r = env.R(s,a,s_)\n",
    "        q = r + gamma*search(s_, d+1)\n",
    "        Q[d, s,a] = (n[d, s,a]*Q[d, s,a]+q) / (n[d, s,a]+1)\n",
    "        n[d, s,a] += 1\n",
    "        return q\n",
    "\n",
    "    for _ in range(max_iter):\n",
    "        for s0 in env.S0:\n",
    "            search(s0,0)\n",
    "    return bestActions(0, 0)\n",
    "\n",
    "    \n",
    "pi = uct(max_iter=500, max_d=10)\n",
    "env.plot(pi, True)"
   ]
  },
  {
   "cell_type": "code",
   "execution_count": 3,
   "metadata": {},
   "outputs": [
    {
     "data": {
      "text/plain": [
       "0"
      ]
     },
     "execution_count": 3,
     "metadata": {},
     "output_type": "execute_result"
    }
   ],
   "source": [
    "b = np.array([1, 0, 0, 1])\n",
    "np.random.choice(np.flatnonzero(b == b.max()))"
   ]
  },
  {
   "cell_type": "code",
   "execution_count": 4,
   "metadata": {},
   "outputs": [
    {
     "name": "stdout",
     "output_type": "stream",
     "text": [
      " _____________________________ \n",
      "|  →  |  →  |  →  |  →  |  ↑  |\n",
      "|_____|_____|_____|_____|_____|\n",
      "|  ↑  |  →  |  ↑  |  ↓  |  ↑  |\n",
      "|_____|_____|_____|_____|_____|\n",
      "\n"
     ]
    }
   ],
   "source": [
    "def uct(max_iter=1000, max_d=10, gamma=.9, beta=1):\n",
    "    Q = np.zeros((env.S.size, env.A.size))\n",
    "    n = np.zeros((env.S.size, env.A.size))\n",
    "\n",
    "    def search(s, d):\n",
    "        if s in env.G:\n",
    "            return 0\n",
    "        if d == max_d:\n",
    "            return np.max([env.R(s_) for s_ in env.S for a in env.A if env.T(s,a,s_)>0])\n",
    "        \n",
    "        expl = lambda a: ((np.log(np.sum(n[s]))/n[s,a])**.5) if n[s,a]>0 else 0\n",
    "        # a = np.argmax([Q[s,a] + beta*expl(a) for a in env.A])\n",
    "        v = np.array([Q[s,a] + beta*expl(a) for a in env.A])\n",
    "        a = np.random.choice(np.flatnonzero(v == v.max()))\n",
    "        s_ = np.random.choice(env.S, p=[env.T(s,a,s_) for s_ in env.S])\n",
    "        r = env.R(s_)\n",
    "        q = r + gamma*search(s_, d+1)\n",
    "        Q[s,a] = (n[s,a]*Q[s,a]+q) / (n[s,a]+1)\n",
    "        n[s,a] += 1\n",
    "        return q\n",
    "\n",
    "    for i in range(max_iter):\n",
    "        for s0 in env.S0:\n",
    "            search(s0,0)\n",
    "    return [np.argmax(Q[s]) for s in env.S]\n",
    "\n",
    "    \n",
    "pi = uct(max_iter=100, max_d=100, beta=.9)\n",
    "env.plot(pi, True)"
   ]
  },
  {
   "cell_type": "code",
   "execution_count": 6,
   "metadata": {},
   "outputs": [],
   "source": [
    "v = [1,2,3]\n",
    "\n",
    "with open(\"teste.txt\", \"a\") as f:\n",
    "    for item in v:\n",
    "        f.write(f'{item}\\n')\n",
    "\n"
   ]
  }
 ],
 "metadata": {
  "kernelspec": {
   "display_name": "Python 3",
   "language": "python",
   "name": "python3"
  },
  "language_info": {
   "codemirror_mode": {
    "name": "ipython",
    "version": 3
   },
   "file_extension": ".py",
   "mimetype": "text/x-python",
   "name": "python",
   "nbconvert_exporter": "python",
   "pygments_lexer": "ipython3",
   "version": "3.9.19"
  }
 },
 "nbformat": 4,
 "nbformat_minor": 2
}
